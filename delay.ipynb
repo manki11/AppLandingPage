{
  "nbformat": 4,
  "nbformat_minor": 0,
  "metadata": {
    "colab": {
      "name": "delay",
      "version": "0.3.2",
      "provenance": [],
      "collapsed_sections": [],
      "include_colab_link": true
    },
    "kernelspec": {
      "name": "python3",
      "display_name": "Python 3"
    }
  },
  "cells": [
    {
      "cell_type": "markdown",
      "metadata": {
        "id": "view-in-github",
        "colab_type": "text"
      },
      "source": [
        "<a href=\"https://colab.research.google.com/github/manki11/AppLandingPage/blob/master/delay.ipynb\" target=\"_parent\"><img src=\"https://colab.research.google.com/assets/colab-badge.svg\" alt=\"Open In Colab\"/></a>"
      ]
    },
    {
      "cell_type": "code",
      "metadata": {
        "id": "jfMa_bQISZEi",
        "colab_type": "code",
        "colab": {}
      },
      "source": [
        "import pandas as pd\n",
        "import numpy as np\n",
        "import datetime\n",
        "from sklearn.preprocessing import LabelEncoder, OneHotEncoder\n",
        "import io\n",
        "\n",
        "\n",
        "import warnings\n",
        "warnings.filterwarnings('ignore')"
      ],
      "execution_count": 0,
      "outputs": []
    },
    {
      "cell_type": "code",
      "metadata": {
        "id": "fxdUabjPbvDZ",
        "colab_type": "code",
        "colab": {}
      },
      "source": [
        "dataset = pd.read_csv('data_delay.csv')"
      ],
      "execution_count": 0,
      "outputs": []
    },
    {
      "cell_type": "code",
      "metadata": {
        "id": "LiIegH2WbxX5",
        "colab_type": "code",
        "colab": {}
      },
      "source": [
        "dataset.drop(['Cod_Arr_Apt_Real','Range_Pontuality','Tail_Model','Tail_Nbr','Id_Leg','Flg_Dep_Delay','Flg_Arr_Delay','Airline_Company','Owner_Tail_Responsability','Owner_Tail','Act_Dep_Dt','Act_Dep_Tm','Act_Arr_Dt','Act_Arr_Tm'], axis=1, inplace=True)"
      ],
      "execution_count": 0,
      "outputs": []
    },
    {
      "cell_type": "code",
      "metadata": {
        "id": "Y4j95x-yb3IF",
        "colab_type": "code",
        "colab": {}
      },
      "source": [
        "data= dataset.dropna(how='any', axis=0)\n",
        "\n",
        "data['Schd_Dep_Dt'] = data['Schd_Dep_Dt'].apply(lambda x: pd.to_datetime(str(x), format='%Y%m%d'))\n",
        "data['Schd_Dep_Dt_Yr'] = data['Schd_Dep_Dt'].apply(lambda x: x.year)\n",
        "data['Schd_Dep_Dt_Mn'] = data['Schd_Dep_Dt'].apply(lambda x: x.month)\n",
        "data['Schd_Dep_Dt_Dy'] = data['Schd_Dep_Dt'].apply(lambda x: x.weekday())\n",
        "\n",
        "data['Schd_Arr_Dt'] = data['Schd_Arr_Dt'].apply(lambda x: pd.to_datetime(str(x), format='%Y%m%d'))\n",
        "data['Schd_Arr_Dt_Yr'] = data['Schd_Arr_Dt'].apply(lambda x: x.year)\n",
        "data['Schd_Arr_Dt_Mn'] = data['Schd_Arr_Dt'].apply(lambda x: x.month)\n",
        "data['Schd_Arr_Dt_Dy'] = data['Schd_Arr_Dt'].apply(lambda x: x.weekday())\n",
        "\n",
        "data.drop('Schd_Arr_Dt', axis=1,inplace=True)\n",
        "data.drop('Schd_Dep_Dt', axis=1,inplace=True)"
      ],
      "execution_count": 0,
      "outputs": []
    },
    {
      "cell_type": "code",
      "metadata": {
        "id": "27LZ1famb6MX",
        "colab_type": "code",
        "outputId": "f5904f8a-94e7-499c-e1f0-cef057f76a58",
        "colab": {
          "base_uri": "https://localhost:8080/",
          "height": 272
        }
      },
      "source": [
        "data.dtypes"
      ],
      "execution_count": 0,
      "outputs": [
        {
          "output_type": "execute_result",
          "data": {
            "text/plain": [
              "Leg_Status             object\n",
              "Cod_Flight             object\n",
              "Cod_Dep_Apt            object\n",
              "Cod_Arr_Apt_Planned    object\n",
              "Schd_Dep_Tm            object\n",
              "Schd_Arr_Tm            object\n",
              "Flag_Pontuality        object\n",
              "Tail_Model_Type        object\n",
              "Schd_Dep_Dt_Yr          int64\n",
              "Schd_Dep_Dt_Mn          int64\n",
              "Schd_Dep_Dt_Dy          int64\n",
              "Schd_Arr_Dt_Yr          int64\n",
              "Schd_Arr_Dt_Mn          int64\n",
              "Schd_Arr_Dt_Dy          int64\n",
              "dtype: object"
            ]
          },
          "metadata": {
            "tags": []
          },
          "execution_count": 5
        }
      ]
    },
    {
      "cell_type": "code",
      "metadata": {
        "id": "NDN0H5B5d0kO",
        "colab_type": "code",
        "colab": {}
      },
      "source": [
        "data['Flag_Pontuality']= LabelEncoder().fit_transform(data['Flag_Pontuality'])\n",
        "data['Tail_Model_Type']= LabelEncoder().fit_transform(data['Tail_Model_Type'])\n",
        "\n",
        "data= data.sort_values(by=['Schd_Dep_Dt_Yr'])"
      ],
      "execution_count": 0,
      "outputs": []
    },
    {
      "cell_type": "code",
      "metadata": {
        "id": "igCwicImd8K-",
        "colab_type": "code",
        "outputId": "5f5ca78b-db93-45d7-ec9d-6b4213722966",
        "colab": {
          "base_uri": "https://localhost:8080/",
          "height": 224
        }
      },
      "source": [
        "data.head()"
      ],
      "execution_count": 0,
      "outputs": [
        {
          "output_type": "execute_result",
          "data": {
            "text/html": [
              "<div>\n",
              "<style scoped>\n",
              "    .dataframe tbody tr th:only-of-type {\n",
              "        vertical-align: middle;\n",
              "    }\n",
              "\n",
              "    .dataframe tbody tr th {\n",
              "        vertical-align: top;\n",
              "    }\n",
              "\n",
              "    .dataframe thead th {\n",
              "        text-align: right;\n",
              "    }\n",
              "</style>\n",
              "<table border=\"1\" class=\"dataframe\">\n",
              "  <thead>\n",
              "    <tr style=\"text-align: right;\">\n",
              "      <th></th>\n",
              "      <th>Leg_Status</th>\n",
              "      <th>Cod_Flight</th>\n",
              "      <th>Cod_Dep_Apt</th>\n",
              "      <th>Cod_Arr_Apt_Planned</th>\n",
              "      <th>Schd_Dep_Tm</th>\n",
              "      <th>Schd_Arr_Tm</th>\n",
              "      <th>Flag_Pontuality</th>\n",
              "      <th>Tail_Model_Type</th>\n",
              "      <th>Schd_Dep_Dt_Yr</th>\n",
              "      <th>Schd_Dep_Dt_Mn</th>\n",
              "      <th>Schd_Dep_Dt_Dy</th>\n",
              "      <th>Schd_Arr_Dt_Yr</th>\n",
              "      <th>Schd_Arr_Dt_Mn</th>\n",
              "      <th>Schd_Arr_Dt_Dy</th>\n",
              "    </tr>\n",
              "  </thead>\n",
              "  <tbody>\n",
              "    <tr>\n",
              "      <th>464445</th>\n",
              "      <td>Regular</td>\n",
              "      <td>TP 1017</td>\n",
              "      <td>MAD</td>\n",
              "      <td>LIS</td>\n",
              "      <td>17:10</td>\n",
              "      <td>18:25</td>\n",
              "      <td>1</td>\n",
              "      <td>1</td>\n",
              "      <td>2015</td>\n",
              "      <td>4</td>\n",
              "      <td>6</td>\n",
              "      <td>2015</td>\n",
              "      <td>4</td>\n",
              "      <td>6</td>\n",
              "    </tr>\n",
              "    <tr>\n",
              "      <th>419360</th>\n",
              "      <td>Regular</td>\n",
              "      <td>TP 1909</td>\n",
              "      <td>LIS</td>\n",
              "      <td>FAO</td>\n",
              "      <td>15:25</td>\n",
              "      <td>16:10</td>\n",
              "      <td>1</td>\n",
              "      <td>1</td>\n",
              "      <td>2015</td>\n",
              "      <td>11</td>\n",
              "      <td>1</td>\n",
              "      <td>2015</td>\n",
              "      <td>11</td>\n",
              "      <td>1</td>\n",
              "    </tr>\n",
              "    <tr>\n",
              "      <th>419359</th>\n",
              "      <td>Regular</td>\n",
              "      <td>TP 1909</td>\n",
              "      <td>LIS</td>\n",
              "      <td>FAO</td>\n",
              "      <td>15:25</td>\n",
              "      <td>16:10</td>\n",
              "      <td>1</td>\n",
              "      <td>1</td>\n",
              "      <td>2015</td>\n",
              "      <td>11</td>\n",
              "      <td>0</td>\n",
              "      <td>2015</td>\n",
              "      <td>11</td>\n",
              "      <td>0</td>\n",
              "    </tr>\n",
              "    <tr>\n",
              "      <th>419358</th>\n",
              "      <td>Regular</td>\n",
              "      <td>TP 1909</td>\n",
              "      <td>LIS</td>\n",
              "      <td>FAO</td>\n",
              "      <td>15:25</td>\n",
              "      <td>16:10</td>\n",
              "      <td>1</td>\n",
              "      <td>1</td>\n",
              "      <td>2015</td>\n",
              "      <td>11</td>\n",
              "      <td>6</td>\n",
              "      <td>2015</td>\n",
              "      <td>11</td>\n",
              "      <td>6</td>\n",
              "    </tr>\n",
              "    <tr>\n",
              "      <th>419357</th>\n",
              "      <td>Regular</td>\n",
              "      <td>TP 1909</td>\n",
              "      <td>LIS</td>\n",
              "      <td>FAO</td>\n",
              "      <td>15:25</td>\n",
              "      <td>16:10</td>\n",
              "      <td>1</td>\n",
              "      <td>1</td>\n",
              "      <td>2015</td>\n",
              "      <td>11</td>\n",
              "      <td>5</td>\n",
              "      <td>2015</td>\n",
              "      <td>11</td>\n",
              "      <td>5</td>\n",
              "    </tr>\n",
              "  </tbody>\n",
              "</table>\n",
              "</div>"
            ],
            "text/plain": [
              "       Leg_Status Cod_Flight  ... Schd_Arr_Dt_Mn Schd_Arr_Dt_Dy\n",
              "464445    Regular    TP 1017  ...              4              6\n",
              "419360    Regular    TP 1909  ...             11              1\n",
              "419359    Regular    TP 1909  ...             11              0\n",
              "419358    Regular    TP 1909  ...             11              6\n",
              "419357    Regular    TP 1909  ...             11              5\n",
              "\n",
              "[5 rows x 14 columns]"
            ]
          },
          "metadata": {
            "tags": []
          },
          "execution_count": 7
        }
      ]
    },
    {
      "cell_type": "code",
      "metadata": {
        "id": "h6m6mbgeeBEE",
        "colab_type": "code",
        "colab": {}
      },
      "source": [
        "y=data.loc[:,['Flag_Pontuality']].values\n",
        "X = data.drop('Flag_Pontuality', axis=1,inplace=False).values"
      ],
      "execution_count": 0,
      "outputs": []
    },
    {
      "cell_type": "code",
      "metadata": {
        "id": "32fHcctOesH4",
        "colab_type": "code",
        "colab": {}
      },
      "source": [
        "from sklearn.compose import ColumnTransformer\n",
        "\n",
        "ct = ColumnTransformer(\n",
        "    [('oh_enc', OneHotEncoder(sparse=True), [0,1,2,3,4,5,6,7,8,9,10,11,12]),],  # the column numbers I want to apply this to\n",
        "    remainder='passthrough'  # This leaves the rest of my columns in place\n",
        ")\n",
        "X_encoded = ct.fit_transform(X) # Notice the output is a string"
      ],
      "execution_count": 0,
      "outputs": []
    },
    {
      "cell_type": "code",
      "metadata": {
        "id": "IV9lor1NfiF1",
        "colab_type": "code",
        "outputId": "3db49a4d-9236-4f73-cebe-44108eda5784",
        "colab": {
          "base_uri": "https://localhost:8080/",
          "height": 51
        }
      },
      "source": [
        "X_encoded"
      ],
      "execution_count": 0,
      "outputs": [
        {
          "output_type": "execute_result",
          "data": {
            "text/plain": [
              "<457955x2621 sparse matrix of type '<class 'numpy.float64'>'\n",
              "\twith 5953415 stored elements in Compressed Sparse Row format>"
            ]
          },
          "metadata": {
            "tags": []
          },
          "execution_count": 11
        }
      ]
    },
    {
      "cell_type": "code",
      "metadata": {
        "id": "fEpkY0krf6T7",
        "colab_type": "code",
        "colab": {}
      },
      "source": [
        "from sklearn.model_selection import train_test_split\n",
        "\n",
        "X_train, X_test, y_train, y_test = train_test_split(X_encoded, y, test_size=110271, shuffle=False)"
      ],
      "execution_count": 0,
      "outputs": []
    },
    {
      "cell_type": "code",
      "metadata": {
        "id": "6tlaNPwpimJL",
        "colab_type": "code",
        "outputId": "50252eca-10e9-41e2-a02f-30e3d43d6d7a",
        "colab": {
          "base_uri": "https://localhost:8080/",
          "height": 51
        }
      },
      "source": [
        "X_train"
      ],
      "execution_count": 0,
      "outputs": [
        {
          "output_type": "execute_result",
          "data": {
            "text/plain": [
              "<347684x2621 sparse matrix of type '<class 'numpy.float64'>'\n",
              "\twith 4519892 stored elements in Compressed Sparse Row format>"
            ]
          },
          "metadata": {
            "tags": []
          },
          "execution_count": 14
        }
      ]
    },
    {
      "cell_type": "code",
      "metadata": {
        "id": "UJsV45Wbin99",
        "colab_type": "code",
        "outputId": "f50c7c4c-c9eb-49ad-ed55-88c541a3ae0c",
        "colab": {
          "base_uri": "https://localhost:8080/",
          "height": 51
        }
      },
      "source": [
        "X_test"
      ],
      "execution_count": 0,
      "outputs": [
        {
          "output_type": "execute_result",
          "data": {
            "text/plain": [
              "<110271x2621 sparse matrix of type '<class 'numpy.float64'>'\n",
              "\twith 1433523 stored elements in Compressed Sparse Row format>"
            ]
          },
          "metadata": {
            "tags": []
          },
          "execution_count": 15
        }
      ]
    },
    {
      "cell_type": "code",
      "metadata": {
        "id": "yDowfbeqisJj",
        "colab_type": "code",
        "outputId": "4e92e5de-497d-4932-b304-327ae99c9b46",
        "colab": {
          "base_uri": "https://localhost:8080/",
          "height": 1000
        }
      },
      "source": [
        "# import keras\n",
        "# from keras.models import Sequential\n",
        "# from keras.layers import Dense\n",
        "\n",
        "# # Initializing the ANN\n",
        "# classifier = Sequential()\n",
        "\n",
        "# # Adding input layer and hidden layer\n",
        "# classifier.add(Dense(output_dim=6, init='uniform', activation='relu', input_dim=2621))\n",
        "\n",
        "# # Adding second hidden layer\n",
        "# classifier.add(Dense(output_dim=6, init='uniform', activation='relu'))\n",
        "\n",
        "# # Adding output layer\n",
        "# classifier.add(Dense(output_dim=1, init='uniform', activation='sigmoid'))\n",
        "\n",
        "# # Compiling the ANN\n",
        "# classifier.compile(optimizer='adam', loss='binary_crossentropy', metrics=['accuracy'])\n",
        "\n",
        "# # Fit the ANN to training set\n",
        "# classifier.fit(X_train, y_train, batch_size=10, nb_epoch=50)\n",
        "\n",
        "# # Prediction on test set\n",
        "# y_pred= classifier.predict(X_test)\n",
        "\n",
        "# print(\"results\")\n",
        "\n",
        "# y_pred = (y_pred > 0.5)\n",
        "\n",
        "\n",
        "# # Making the Confusion Matrix\n",
        "# from sklearn.metrics import confusion_matrix\n",
        "# cm = confusion_matrix(y_test, y_pred)"
      ],
      "execution_count": 0,
      "outputs": [
        {
          "output_type": "stream",
          "text": [
            "W0629 14:13:19.579180 140638617655168 deprecation_wrapper.py:119] From /usr/local/lib/python3.6/dist-packages/keras/backend/tensorflow_backend.py:986: The name tf.assign_add is deprecated. Please use tf.compat.v1.assign_add instead.\n",
            "\n"
          ],
          "name": "stderr"
        },
        {
          "output_type": "stream",
          "text": [
            "Epoch 1/50\n",
            "347684/347684 [==============================] - 76s 219us/step - loss: 0.5269 - acc: 0.7477\n",
            "Epoch 2/50\n",
            "347684/347684 [==============================] - 75s 215us/step - loss: 0.5163 - acc: 0.7532\n",
            "Epoch 3/50\n",
            "347684/347684 [==============================] - 75s 217us/step - loss: 0.5120 - acc: 0.7552\n",
            "Epoch 4/50\n",
            "347684/347684 [==============================] - 77s 220us/step - loss: 0.5095 - acc: 0.7568\n",
            "Epoch 5/50\n",
            "347684/347684 [==============================] - 75s 216us/step - loss: 0.5077 - acc: 0.7572\n",
            "Epoch 6/50\n",
            "347684/347684 [==============================] - 74s 214us/step - loss: 0.5062 - acc: 0.7581\n",
            "Epoch 7/50\n",
            "347684/347684 [==============================] - 75s 216us/step - loss: 0.5053 - acc: 0.7582\n",
            "Epoch 8/50\n",
            "347684/347684 [==============================] - 77s 220us/step - loss: 0.5045 - acc: 0.7591\n",
            "Epoch 9/50\n",
            "347684/347684 [==============================] - 76s 217us/step - loss: 0.5037 - acc: 0.7590\n",
            "Epoch 10/50\n",
            "347684/347684 [==============================] - 75s 216us/step - loss: 0.5031 - acc: 0.7593\n",
            "Epoch 11/50\n",
            "347684/347684 [==============================] - 75s 216us/step - loss: 0.5027 - acc: 0.7604\n",
            "Epoch 12/50\n",
            "347684/347684 [==============================] - 75s 215us/step - loss: 0.5022 - acc: 0.7598\n",
            "Epoch 13/50\n",
            "347684/347684 [==============================] - 76s 218us/step - loss: 0.5017 - acc: 0.7605\n",
            "Epoch 14/50\n",
            "347684/347684 [==============================] - 75s 217us/step - loss: 0.5014 - acc: 0.7603\n",
            "Epoch 15/50\n",
            "347684/347684 [==============================] - 75s 217us/step - loss: 0.5010 - acc: 0.7609\n",
            "Epoch 16/50\n",
            "347684/347684 [==============================] - 75s 215us/step - loss: 0.5009 - acc: 0.7611\n",
            "Epoch 17/50\n",
            "347684/347684 [==============================] - 77s 223us/step - loss: 0.5007 - acc: 0.7612\n",
            "Epoch 18/50\n",
            "347684/347684 [==============================] - 75s 215us/step - loss: 0.5005 - acc: 0.7614\n",
            "Epoch 19/50\n",
            "347684/347684 [==============================] - 75s 215us/step - loss: 0.5004 - acc: 0.7612\n",
            "Epoch 20/50\n",
            "347684/347684 [==============================] - 74s 213us/step - loss: 0.5003 - acc: 0.7613\n",
            "Epoch 21/50\n",
            "347684/347684 [==============================] - 76s 220us/step - loss: 0.5002 - acc: 0.7613\n",
            "Epoch 22/50\n",
            "347684/347684 [==============================] - 75s 215us/step - loss: 0.5002 - acc: 0.7613\n",
            "Epoch 23/50\n",
            "347684/347684 [==============================] - 75s 216us/step - loss: 0.4999 - acc: 0.7616\n",
            "Epoch 24/50\n",
            "347684/347684 [==============================] - 74s 213us/step - loss: 0.4999 - acc: 0.7614\n",
            "Epoch 25/50\n",
            "347684/347684 [==============================] - 76s 220us/step - loss: 0.4997 - acc: 0.7619\n",
            "Epoch 26/50\n",
            "347684/347684 [==============================] - 74s 214us/step - loss: 0.4997 - acc: 0.7618\n",
            "Epoch 27/50\n",
            "347684/347684 [==============================] - 75s 217us/step - loss: 0.4996 - acc: 0.7621\n",
            "Epoch 28/50\n",
            "347684/347684 [==============================] - 75s 215us/step - loss: 0.4993 - acc: 0.7622\n",
            "Epoch 29/50\n",
            "347684/347684 [==============================] - 77s 221us/step - loss: 0.4992 - acc: 0.7623\n",
            "Epoch 30/50\n",
            "347684/347684 [==============================] - 75s 217us/step - loss: 0.4991 - acc: 0.7626\n",
            "Epoch 31/50\n",
            "347684/347684 [==============================] - 75s 215us/step - loss: 0.4990 - acc: 0.7628\n",
            "Epoch 32/50\n",
            "347684/347684 [==============================] - 74s 214us/step - loss: 0.4989 - acc: 0.7628\n",
            "Epoch 33/50\n",
            "347684/347684 [==============================] - 76s 220us/step - loss: 0.4987 - acc: 0.7627\n",
            "Epoch 34/50\n",
            "347684/347684 [==============================] - 82s 237us/step - loss: 0.4986 - acc: 0.7627\n",
            "Epoch 35/50\n",
            "347684/347684 [==============================] - 77s 223us/step - loss: 0.4986 - acc: 0.7631\n",
            "Epoch 36/50\n",
            "347684/347684 [==============================] - 78s 225us/step - loss: 0.4985 - acc: 0.7629\n",
            "Epoch 37/50\n",
            "347684/347684 [==============================] - 78s 225us/step - loss: 0.4982 - acc: 0.7632\n",
            "Epoch 38/50\n",
            "347684/347684 [==============================] - 78s 225us/step - loss: 0.4982 - acc: 0.7631\n",
            "Epoch 39/50\n",
            "347684/347684 [==============================] - 77s 222us/step - loss: 0.4982 - acc: 0.7629\n",
            "Epoch 40/50\n",
            " 26730/347684 [=>............................] - ETA: 1:13 - loss: 0.4931 - acc: 0.7692Buffered data was truncated after reaching the output size limit."
          ],
          "name": "stdout"
        }
      ]
    },
    {
      "cell_type": "code",
      "metadata": {
        "id": "Aw8DtH48lH0c",
        "colab_type": "code",
        "colab": {}
      },
      "source": [
        "cm = confusion_matrix(y_test.values, y_pred)"
      ],
      "execution_count": 0,
      "outputs": []
    },
    {
      "cell_type": "code",
      "metadata": {
        "id": "NTTVpgZa1xkl",
        "colab_type": "code",
        "outputId": "5f42dc8a-5c4d-4d66-c283-62082599a70c",
        "colab": {
          "base_uri": "https://localhost:8080/",
          "height": 51
        }
      },
      "source": [
        "cm"
      ],
      "execution_count": 0,
      "outputs": [
        {
          "output_type": "execute_result",
          "data": {
            "text/plain": [
              "array([[  320, 47760],\n",
              "       [  204, 61987]])"
            ]
          },
          "metadata": {
            "tags": []
          },
          "execution_count": 72
        }
      ]
    },
    {
      "cell_type": "code",
      "metadata": {
        "id": "oiJThOWO2X0D",
        "colab_type": "code",
        "outputId": "efacb36f-f496-4d8f-c140-aba0ab35bfdf",
        "colab": {
          "base_uri": "https://localhost:8080/",
          "height": 51
        }
      },
      "source": [
        "y_test.mean()"
      ],
      "execution_count": 0,
      "outputs": [
        {
          "output_type": "execute_result",
          "data": {
            "text/plain": [
              "Flag_Pontuality    0.563983\n",
              "dtype: float64"
            ]
          },
          "metadata": {
            "tags": []
          },
          "execution_count": 74
        }
      ]
    },
    {
      "cell_type": "code",
      "metadata": {
        "id": "7qBn5BxF4AWd",
        "colab_type": "code",
        "colab": {}
      },
      "source": [
        "# Fitting classifier to the Training set\n",
        "from sklearn.tree import DecisionTreeClassifier\n",
        "classifier= DecisionTreeClassifier(criterion='entropy', random_state=0)\n",
        "classifier.fit(X_train, y_train)\n",
        "\n",
        "# Predicting the Test set results\n",
        "y_pred = classifier.predict(X_test)\n",
        "\n",
        "# Making the Confusion Matrix\n",
        "from sklearn.metrics import confusion_matrix\n",
        "cm = confusion_matrix(y_test, y_pred)\n"
      ],
      "execution_count": 0,
      "outputs": []
    },
    {
      "cell_type": "code",
      "metadata": {
        "id": "n0FiTLFY4gS1",
        "colab_type": "code",
        "outputId": "838e4bb7-9e76-4140-b9ec-34c282876360",
        "colab": {
          "base_uri": "https://localhost:8080/",
          "height": 51
        }
      },
      "source": [
        "cm"
      ],
      "execution_count": 0,
      "outputs": [
        {
          "output_type": "execute_result",
          "data": {
            "text/plain": [
              "array([[10533, 37547],\n",
              "       [ 9092, 53099]])"
            ]
          },
          "metadata": {
            "tags": []
          },
          "execution_count": 18
        }
      ]
    },
    {
      "cell_type": "code",
      "metadata": {
        "id": "400GRvEG5VlO",
        "colab_type": "code",
        "colab": {}
      },
      "source": [
        "acc= (cm[0][0]+cm[1][1])/(cm[0][0]+cm[1][1]+cm[0][1]+cm[1][0])"
      ],
      "execution_count": 0,
      "outputs": []
    },
    {
      "cell_type": "code",
      "metadata": {
        "id": "vmjbqeOd-TUm",
        "colab_type": "code",
        "outputId": "23f44415-0b65-4224-9e3b-f2b16a68bc7b",
        "colab": {
          "base_uri": "https://localhost:8080/",
          "height": 34
        }
      },
      "source": [
        "acc"
      ],
      "execution_count": 0,
      "outputs": [
        {
          "output_type": "execute_result",
          "data": {
            "text/plain": [
              "0.5770510832403806"
            ]
          },
          "metadata": {
            "tags": []
          },
          "execution_count": 20
        }
      ]
    },
    {
      "cell_type": "code",
      "metadata": {
        "id": "jdZsYAox-UFv",
        "colab_type": "code",
        "colab": {}
      },
      "source": [
        ""
      ],
      "execution_count": 0,
      "outputs": []
    }
  ]
}